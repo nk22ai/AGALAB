{
  "nbformat": 4,
  "nbformat_minor": 0,
  "metadata": {
    "colab": {
      "provenance": []
    },
    "kernelspec": {
      "name": "python3",
      "display_name": "Python 3"
    },
    "language_info": {
      "name": "python"
    }
  },
  "cells": [
    {
      "cell_type": "code",
      "execution_count": 3,
      "metadata": {
        "colab": {
          "base_uri": "https://localhost:8080/"
        },
        "id": "hb7UvBqaYwLS",
        "outputId": "55a261f1-c5ef-43b2-e783-04ea073efd5b"
      },
      "outputs": [
        {
          "output_type": "stream",
          "name": "stdout",
          "text": [
            "[BernoulliRBM] Iteration 1, pseudo-likelihood = -14.47, time = 0.01s\n",
            "[BernoulliRBM] Iteration 2, pseudo-likelihood = -20.64, time = 0.03s\n",
            "[BernoulliRBM] Iteration 3, pseudo-likelihood = -21.25, time = 0.03s\n",
            "[BernoulliRBM] Iteration 4, pseudo-likelihood = -30.40, time = 0.01s\n",
            "[BernoulliRBM] Iteration 5, pseudo-likelihood = -24.08, time = 0.01s\n",
            "[BernoulliRBM] Iteration 6, pseudo-likelihood = -36.02, time = 0.02s\n",
            "[BernoulliRBM] Iteration 7, pseudo-likelihood = -26.21, time = 0.01s\n",
            "[BernoulliRBM] Iteration 8, pseudo-likelihood = -34.29, time = 0.02s\n",
            "[BernoulliRBM] Iteration 9, pseudo-likelihood = -46.54, time = 0.01s\n",
            "[BernoulliRBM] Iteration 10, pseudo-likelihood = -24.24, time = 0.02s\n",
            "[BernoulliRBM] Iteration 11, pseudo-likelihood = -35.06, time = 0.03s\n",
            "[BernoulliRBM] Iteration 12, pseudo-likelihood = -47.31, time = 0.06s\n",
            "[BernoulliRBM] Iteration 13, pseudo-likelihood = -46.95, time = 0.03s\n",
            "[BernoulliRBM] Iteration 14, pseudo-likelihood = -33.39, time = 0.05s\n",
            "[BernoulliRBM] Iteration 15, pseudo-likelihood = -80.37, time = 0.01s\n",
            "[BernoulliRBM] Iteration 16, pseudo-likelihood = -70.24, time = 0.01s\n",
            "[BernoulliRBM] Iteration 17, pseudo-likelihood = -77.45, time = 0.01s\n",
            "[BernoulliRBM] Iteration 18, pseudo-likelihood = -81.69, time = 0.01s\n",
            "[BernoulliRBM] Iteration 19, pseudo-likelihood = -93.72, time = 0.01s\n",
            "[BernoulliRBM] Iteration 20, pseudo-likelihood = -71.93, time = 0.01s\n",
            "DBN Classification score: 0.9722222222222222\n"
          ]
        }
      ],
      "source": [
        "import numpy as np\n",
        "import pandas as pd\n",
        "from sklearn.datasets import load_wine  # Use load_wine to load the Wine dataset\n",
        "from sklearn.model_selection import train_test_split\n",
        "from sklearn.preprocessing import StandardScaler\n",
        "from sklearn.neural_network import BernoulliRBM\n",
        "from sklearn.pipeline import Pipeline\n",
        "from sklearn.linear_model import LogisticRegression\n",
        "\n",
        "# Load the Wine dataset\n",
        "wine = load_wine()\n",
        "X, y = wine['data'], wine['target']\n",
        "\n",
        "# Split the data into training and testing sets\n",
        "X_train, X_test, y_train, y_test = train_test_split(X, y, test_size=0.2, random_state=42)\n",
        "\n",
        "# Scale the data\n",
        "scaler = StandardScaler()\n",
        "X_train_scaled = scaler.fit_transform(X_train)\n",
        "X_test_scaled = scaler.transform(X_test)\n",
        "\n",
        "# Define the RBM and Logistic Regression\n",
        "rbm = BernoulliRBM(n_components=256, learning_rate=0.01, n_iter=20, verbose=1)\n",
        "\n",
        "logistic = LogisticRegression(max_iter=1000)\n",
        "\n",
        "# Create the pipeline\n",
        "dbn_pipeline = Pipeline(steps=[('rbm', rbm), ('logistic', logistic)])\n",
        "\n",
        "# Fit the model\n",
        "dbn_pipeline.fit(X_train_scaled, y_train)\n",
        "\n",
        "# Evaluate the model\n",
        "dbn_score = dbn_pipeline.score(X_test_scaled, y_test)\n",
        "print(f\"DBN Classification score: {dbn_score}\")\n"
      ]
    }
  ]
}